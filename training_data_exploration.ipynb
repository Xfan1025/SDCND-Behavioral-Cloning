{
 "cells": [
  {
   "cell_type": "code",
   "execution_count": 1,
   "metadata": {},
   "outputs": [
    {
     "name": "stderr",
     "output_type": "stream",
     "text": [
      "Using TensorFlow backend.\n"
     ]
    }
   ],
   "source": [
    "import pandas as pd\n",
    "import numpy as np\n",
    "import matplotlib.pyplot as plt\n",
    "%matplotlib inline\n",
    "import keras\n",
    "import cv2"
   ]
  },
  {
   "cell_type": "code",
   "execution_count": 10,
   "metadata": {
    "collapsed": true
   },
   "outputs": [],
   "source": [
    "from keras.models import Sequential\n",
    "from keras.layers import Flatten, Dense, Lambda, Conv2D, MaxPooling2D, Dropout, Cropping2D"
   ]
  },
  {
   "cell_type": "code",
   "execution_count": null,
   "metadata": {
    "collapsed": true
   },
   "outputs": [],
   "source": []
  },
  {
   "cell_type": "code",
   "execution_count": 2,
   "metadata": {
    "collapsed": true
   },
   "outputs": [],
   "source": [
    "def load_data(datafile):\n",
    "    ''' \n",
    "    datafile: path to driving_log.csv\n",
    "    \n",
    "    Return: dataframe with 90% of steering angle less than 0.01 removed\n",
    "    '''\n",
    "    # skipped first row since udacity's data contains header but my own data does not\n",
    "    data = pd.read_csv(datafile)\n",
    "    # get indices of rows with steering angle less than 0.01\n",
    "    indices = []\n",
    "    for i in data.index:\n",
    "        if -0.01 < data.iloc[i, 3] < 0.01 :\n",
    "    #     if data.iloc[i, 3] == 0:\n",
    "            indices.append(i)\n",
    "        \n",
    "    # randome generate 80% of the indices\n",
    "    index_to_remove = sorted(np.random.choice(indices, int(0.9*len(indices)), replace=False))\n",
    "\n",
    "    # remove the rows with index above\n",
    "    return data.drop(data.index[index_to_remove], inplace=False) "
   ]
  },
  {
   "cell_type": "code",
   "execution_count": 3,
   "metadata": {
    "collapsed": true
   },
   "outputs": [],
   "source": [
    "def view_hist(data):\n",
    "    '''   \n",
    "    data: dataframe\n",
    "    \n",
    "    plot the histogram of steering angles\n",
    "    '''\n",
    "    dist = np.array(data1.iloc[:,3])\n",
    "    plt.figure(figsize=(10,7))\n",
    "    plt.hist(dist, 50, align='mid' )\n",
    "    plt.show()"
   ]
  },
  {
   "cell_type": "code",
   "execution_count": null,
   "metadata": {},
   "outputs": [],
   "source": [
    "'''\n",
    "    \n",
    "    for path, m in zip(data.iloc[:, 0], data.iloc[:, 3]):\n",
    "        img_path = 'best_data\\\\IMG\\\\' + path.split('\\\\')[-1]\n",
    "        \n",
    "        img = cv2.imread(img_path)\n",
    "        images.append(img)\n",
    "        measurements.append(float(m))\n",
    "        \n",
    "        # flip the image over\n",
    "        img_flipped = np.fliplr(img)\n",
    "        images.append(img_flipped)\n",
    "        measurements.append(-float(m))\n",
    "'''"
   ]
  },
  {
   "cell_type": "code",
   "execution_count": 4,
   "metadata": {
    "collapsed": true
   },
   "outputs": [],
   "source": [
    "data1 = load_data('./data/best_data/driving_log.csv')"
   ]
  },
  {
   "cell_type": "code",
   "execution_count": 5,
   "metadata": {
    "scrolled": true
   },
   "outputs": [
    {
     "data": {
      "image/png": "[encoded data removed]",
      "text/plain": [
       "<matplotlib.figure.Figure at 0x2874a58d2e8>"
      ]
     },
     "metadata": {},
     "output_type": "display_data"
    }
   ],
   "source": [
    "view_hist(data1)"
   ]
  },
  {
   "cell_type": "code",
   "execution_count": 6,
   "metadata": {
    "collapsed": true
   },
   "outputs": [],
   "source": [
    "images = []\n",
    "measurements = []"
   ]
  },
  {
   "cell_type": "code",
   "execution_count": 8,
   "metadata": {},
   "outputs": [],
   "source": [
    "for path, m in zip(data1.iloc[:, 0], data1.iloc[:, 3]):\n",
    "    img_path = 'best_data\\\\IMG\\\\' + path.split('\\\\')[-1]\n",
    "\n",
    "    img = cv2.imread(img_path)\n",
    "    images.append(img)\n",
    "    measurements.append(float(m))\n",
    "\n",
    "    # flip the image over\n",
    "    img_flipped = np.fliplr(img)\n",
    "    images.append(img_flipped)\n",
    "    measurements.append(-float(m))"
   ]
  },
  {
   "cell_type": "code",
   "execution_count": 9,
   "metadata": {
    "collapsed": true
   },
   "outputs": [],
   "source": [
    "# a quick test\n",
    "X_train, y_train = np.array(images), np.array(measurements)"
   ]
  },
  {
   "cell_type": "code",
   "execution_count": 14,
   "metadata": {},
   "outputs": [],
   "source": [
    "drop_prob = 0.5\n",
    "model = Sequential()\n",
    "# preprocessing layer\n",
    "\n",
    "# cropping2D layer\n",
    "model.add(Cropping2D(cropping=((50, 20), (0, 0)), input_shape=(160, 320, 3)))\n",
    "# normalisation and centraling\n",
    "model.add(Lambda(lambda x: x / 255.0 - 0.5))\n",
    "  # conv1 depth: 8, kernel=5*5\n",
    "model.add(Conv2D(6, 8, 15, activation='relu'))\n",
    "# max_pooling          \n",
    "model.add(MaxPooling2D((5, 5)))\n",
    "# dropout\n",
    "model.add(Dropout(drop_prob))\n",
    "model.add(Flatten())\n",
    "model.add(Dense(32, activation='relu'))\n",
    "model.add(Dropout(drop_prob))\n",
    "\n",
    "model.add(Dense(1))\n",
    "model.compile(loss='mse', optimizer='adam')"
   ]
  },
  {
   "cell_type": "code",
   "execution_count": null,
   "metadata": {
    "scrolled": true
   },
   "outputs": [
    {
     "name": "stdout",
     "output_type": "stream",
     "text": [
      "Train on 8651 samples, validate on 2163 samples\n",
      "Epoch 1/3\n",
      " 448/8651 [>.............................] - ETA: 440s - loss: 0.1114"
     ]
    }
   ],
   "source": [
    "model.fit(X_train, y_train, validation_split=0.2, shuffle=True, nb_epoch=3, batch_size=64)\n"
   ]
  },
  {
   "cell_type": "code",
   "execution_count": 16,
   "metadata": {},
   "outputs": [
    {
     "name": "stdout",
     "output_type": "stream",
     "text": [
      "model saved\n"
     ]
    }
   ],
   "source": [
    "model.save('model.h5')\n",
    "print('model saved')"
   ]
  },
  {
   "cell_type": "code",
   "execution_count": null,
   "metadata": {
    "collapsed": true
   },
   "outputs": [],
   "source": []
  }
 ],
 "metadata": {
  "kernelspec": {
   "display_name": "Python 3",
   "language": "python",
   "name": "python3"
  },
  "language_info": {
   "codemirror_mode": {
    "name": "ipython",
    "version": 3
   },
   "file_extension": ".py",
   "mimetype": "text/x-python",
   "name": "python",
   "nbconvert_exporter": "python",
   "pygments_lexer": "ipython3",
   "version": "3.5.4"
  },
  "widgets": {
   "state": {},
   "version": "1.1.2"
  }
 },
 "nbformat": 4,
 "nbformat_minor": 2
}
